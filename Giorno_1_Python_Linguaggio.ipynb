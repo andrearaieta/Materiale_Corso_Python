{
 "cells": [
  {
   "cell_type": "code",
   "execution_count": 22,
   "id": "91a83f1f-2981-42b0-a255-8327e1133b4c",
   "metadata": {},
   "outputs": [
    {
     "name": "stdout",
     "output_type": "stream",
     "text": [
      "addizione = 5, sottrazione = -2, moltiplicazione = 12\n",
      "div con operatore / 6.0\n",
      "div con operatore // 6\n",
      "16\n",
      "1.7142857142857142\n",
      "1.714\n"
     ]
    }
   ],
   "source": [
    "#numeri\n",
    "#utilizziamo le operazioni fra numeri per vedere gli operatori più comuni\n",
    "\n",
    "#operazioni basi\n",
    "a= 2\n",
    "b = 3\n",
    "add = a+b\n",
    "sub = 1-3\n",
    "mult = 3*4\n",
    "div = 12/2\n",
    "div2 = 12//2\n",
    "#print(\"la somma di\",a,\"e \",b,\"è\",add)\n",
    "print(f\"addizione = {add}, sottrazione = {sub}, moltiplicazione = {mult}\")\n",
    "#per la divisione abbiamo due operatori\n",
    "print(f\"div con operatore / {div}\")\n",
    "print(f\"div con operatore // {div2}\") #perche si usa il doppio // per evitare che convertendo un valore da numero in virgola a numero si perdano dei numeri\n",
    "\n",
    "#potenza\n",
    "potenza = pow(2,4) #utilizzate la funzione pow per prendere il numero e come secondo parametro l'esponente\n",
    "print(potenza)\n",
    "\n",
    "#arrotondamento(round)\n",
    "div3 = 12/7\n",
    "print(div3)\n",
    "print(round(div3, 3))"
   ]
  },
  {
   "cell_type": "code",
   "execution_count": 53,
   "id": "19ae9f91-bd8d-4397-a16a-36992ba27970",
   "metadata": {},
   "outputs": [
    {
     "name": "stdout",
     "output_type": "stream",
     "text": [
      "False\n",
      "La somma totale è 9\n",
      "La somma totale è 9\n",
      "3 <class 'str'>\n",
      "1\n",
      "22 <class 'str'>\n",
      "22\n",
      "<class 'float'>\n"
     ]
    }
   ],
   "source": [
    "#tipologie di dato in python\n",
    "n = 3\n",
    "nnegativo = -123\n",
    "s = \"ciao\"\n",
    "boolean = True\n",
    "nfloating = 3.14\n",
    "#metodo type() permette di conoscere il tipo di un dato\n",
    "is_integer = type(boolean) == int\n",
    "print(is_integer)\n",
    "\n",
    "#a cosa serve?\n",
    "#esempio da intero a stringa\n",
    "#supponiamo di avere un valore di tipo intero n=30 e lo vogliamo inserire all'interno di una stringa, per esempio la somma di una spesa.\n",
    "carne = 3\n",
    "pesce = 5\n",
    "busta = 1\n",
    "scontrino = \"La somma totale è\"\n",
    "#applico il print con il metodo delle virgole descritto sopra\n",
    "print(scontrino,carne+pesce+busta) #è macchinoso ma funziona\n",
    "#applico il format string e inserisco\n",
    "print(f\"{scontrino} {carne+pesce+busta}\") #nel print funziona col format string\n",
    "carne_str = str(carne)\n",
    "print(carne_str,type(carne_str))\n",
    "\n",
    "#SE PROVATE A FARE CONVERSIONE DA BOOLEANO A STRINGA O INTERO\n",
    "bool_to_int = int(True)\n",
    "print(bool_to_int)\n",
    "\n",
    "#conversione da intero a stringa\n",
    "int_to_str = str(22)\n",
    "print(int_to_str, type(int_to_str))\n",
    "\n",
    "#conversione da stringa a intero?\n",
    "sn = \"22\" #-->lo voglio convertire a intero funziona? funziona per l'intero verso la stringa, ma non fuziona se provate a convertire uin numero con la virgola\n",
    "print(int(sn))\n",
    "#se noi proviamo a convertire una stringa contenente un numero in virgola 32.3\n",
    "sf = \"32.3\"\n",
    "print(type(float(sf))) \n",
    "\n",
    "\n",
    "        \n",
    "        "
   ]
  },
  {
   "cell_type": "raw",
   "id": "46bfe018-fc0b-407c-aa29-9cfbe96d6917",
   "metadata": {},
   "source": []
  },
  {
   "cell_type": "code",
   "execution_count": 69,
   "id": "fc218c85-4cee-4588-99dc-6cd2a8f66028",
   "metadata": {},
   "outputs": [
    {
     "name": "stdout",
     "output_type": "stream",
     "text": [
      "245\n",
      "L'ultimo numero della lista è 14\n"
     ]
    }
   ],
   "source": [
    "#iterazioni\n",
    "#quando abbiamo una lista per esempio una lista di numeri\n",
    "lista  = [1,34,78,245,34,122,14,40]\n",
    "#per iterarla utilizziamo questo for\n",
    "#for numero in lista:\n",
    "#    print(numero)\n",
    "\n",
    "#se per esempio vogliamo iterare una lista e poter cambiare i valori all'interno, abbiamo bisogno di poter utilizzare un indice.\n",
    "#una lista,insieme,tupla(sono tutti tipi di dati che contengono più valori) hanno delle posizioni che contengono il valore\n",
    "#che vanno da 0 a l'ultima posizione che equivale alla grandezza\n",
    "\n",
    "#se voglio sapere la grandezza/dimensione di una lista utilizzo il metodo len()\n",
    "#print(len(lista))\n",
    "\n",
    "#se io voglio accedere ad un elemento della lista in una posizione, devo specificare l'indice\n",
    "print(lista[3])\n",
    "#possiamo fare altre opereazioni sulle liste con gli indici utilizzando una tecnica chiamata slice\n",
    "#che consiste solamente nel inserire un indice di partenza e un indice d'arrivo\n",
    "#print(lista[1:4]) #attenzione perche quando questo metodo dello slice ottenete fino all'ultima posizione indicata -1\n",
    "#print(lista[1:4+1]) #potete optare per inserire un +1 e ottenere gli esatti valori oppure inserire i giusti indici ricordando la regola citata sopra\n",
    "#tip sugli slice\n",
    "\n",
    "#slice per ottenere tutta la lista utilizziamo questa sintassi ::\n",
    "#print(lista[::])\n",
    "#se volete ottenere un valore dell'ultima posizione ma non sapete per qualche motivo quanto è lunga la lista, potete utilizzare l'indice\n",
    "#significa che contate utilizzando i numeri negativi ovvero\n",
    "#print(f\"L'ultimo numero della lista è {lista[-1]}\") #utilizziamo questo slice con i numeri negativi per prendere i valori finale, al di là di sapere quanto sia lunga una lista\n",
    "\n"
   ]
  },
  {
   "cell_type": "code",
   "execution_count": null,
   "id": "49c65ed9-fcfe-4517-9f67-847a21ce9085",
   "metadata": {},
   "outputs": [],
   "source": [
    "#altre operazioni sugli indici, potete applicare letteralmente gli operatori\n",
    "#print(f\"indice moltiplicato per 2 ottengo il valore {lista[2*2]}\")\n",
    "#print(f\"indice diviso per 2 ottengo il valore {lista[6//2]}\")\n",
    "#queste operazioni consentono di muoversi agilmente nella lista in base alle esigenze\n",
    "\n",
    "#ma adesso utilizziamo un cicloc for con quello che abbiamo imparato degli indici\n",
    "#se io voglio come abbiamo detto prima ottenere un numero alla posizione 3\n",
    "#utilizzo una condizione if per controllare che l'indice sia uguale a 3. Da questo posso anche aggiungere un'altra condizione:\n",
    "#per esempio la posizione è uguale a 3 il valore all'interno rimane invariato, se invece non è l'indice uguale a 3, lo cambio un valore -1\n",
    "\n",
    "lista2 = [19,144,123,3,16,2,5,3,32]\n",
    "#         0   1   2  3  4\n",
    "#per utilizzarla con gli indici dobbiamo la sintassi range(len(nome_lista))\n",
    "#nel ciclo for l'indice avanza automaticamente di 1 fino alla fine della lista\n",
    "#for indice in range(len(lista2)):\n",
    "#    print(f\"posizione {indice} --> {lista2[indice]}\")\n",
    "\n",
    "#per avanzare di n posizioni su una lista con l'indice, possiamo inserire un parametro di salto nel range, dove i parametri (inizio,fine,salto)\n",
    "#prendetela con le pinzette ci sono metodi più buoni\n",
    "#for indice in range(0,len(lista2),3):\n",
    "#    print(f\"posizione {indice} --> {lista2[indice]}\")\n",
    "\n",
    "#il costrutto while per iterare in python permette più controllo sugli indici e condizioni.\n",
    "#supponiamo di avere una lista di parole dove io voglio stampare solamente le parola ogni 2 posizioni:\n",
    "\n",
    "parole = [\"ciao\",\"roma\",\"albero\",\"hacker\",\"paradosso\",\"ramo\",\"zaino\",\"barca\"]\n",
    "#inizializzo un contatore che mi servirà da mio indice\n",
    "contatore = 0\n",
    "#inizio a scrivere il while(condizione)\n",
    "while(contatore <len(parole)):\n",
    "    print(contatore)\n",
    "    contatore += 1\n",
    "    "
   ]
  },
  {
   "cell_type": "code",
   "execution_count": 32,
   "id": "c79dae7f-6489-4940-bb9b-639fb4baaeb5",
   "metadata": {},
   "outputs": [
    {
     "name": "stdout",
     "output_type": "stream",
     "text": [
      "1\n",
      "2\n",
      "43\n"
     ]
    }
   ],
   "source": [
    "#matrice\n",
    "m = [ [1,71],\n",
    "      [2,43,100]\n",
    "    ]\n",
    "\n",
    "#se io su una matrice utilizzo solo un for con un print ottengo la stampa di ogni riga.\n",
    "#for i in m:\n",
    "#    for j in i:\n",
    "#        print(j)\n",
    "#un esempio di quando non utilizzare un ciclo for annidato(piu cicli for insieme)\n",
    "#per esempio la somma di tutti gli elementi di una lista, utilizziamo il metodo sum()\n",
    "#for i in m:\n",
    "#    print(sum(i))\n",
    "#se vogliamo utilizzare gli indici su di una matrice dobbiamo modificare come prima la sintassi dei cicli for:\n",
    "\n",
    "for i in range(len(m)):\n",
    "    for j in range(len(m[i])):\n",
    "        #possiamo aggiungere una condizione\n",
    "        #stampa il contenuto solamente il contenuto è minore 49\n",
    "        if m[i][j] < 49:\n",
    "            print(m[i][j])\n",
    "\n",
    "    "
   ]
  },
  {
   "cell_type": "code",
   "execution_count": 53,
   "id": "4327a74e-2095-480e-a37b-afb277ad086c",
   "metadata": {},
   "outputs": [
    {
     "name": "stdout",
     "output_type": "stream",
     "text": [
      "['apple', 'banana', 'cherry', 'Ford', 'BMW', 'Volvo']\n",
      "['cce', 'cb', 'b', 'aaz', 'a']\n",
      "['a', 'b', 'cb']\n",
      "['a', 'b']\n"
     ]
    }
   ],
   "source": [
    "#metodi delle liste, introduciamo ora i metodi sulle liste per poterli applicare dopo insieme ai cicli for e le condizioni e le operazioni\n",
    "#le liste sono strutture dati che permettono di aggragare i dati in vari modi e applicare operazioni su di essi\n",
    "# una lista è una struttura dati mutable, significa può variare la sua grandezza, può quindi avere più dati aggiunti o dati rimossi\n",
    "\n",
    "#gli stessi metodi che valgono per la lista valgono per la matrice solamente che cambieranno le coordinate da singolo indice a doppio\n",
    "l = [1,\"ciao\",\"roma\"]\n",
    "#possiamo utilizzare il type\n",
    "#type(l)\n",
    "\n",
    "#se noi utilizziamo la sintassi append\n",
    "#l.append(\"344\")\n",
    "#print(l)\n",
    "#se noi utilizziamo invece il metodo extend (una lista in più e la uniamo alla prima)\n",
    "fruits = ['apple', 'banana', 'cherry']\n",
    "\n",
    "cars = ['Ford', 'BMW', 'Volvo']\n",
    "fruits.extend(cars)\n",
    "print(fruits)\n",
    "\n",
    "#metodo sort() per le liste ordiniamo i valori in ordine lessicografico crescente\n",
    "#print(sorted(fruits))\n",
    "\n",
    "#se utilizziamo il parametro reverse=True\n",
    "la = [\"a\",\"b\",\"cce\",\"cb\",\"aaz\"]\n",
    "print(sorted(la,reverse=True))\n",
    "\n",
    "#metodo index su lista gli passo un valore e mi ritorna la sua posizione\n",
    "la.index(\"b\")\n",
    "\n",
    "#mettiamo cosa debba eliminare un valore dalla lista posso fare due metodi:\n",
    "\n",
    "#metodo pop che elimina l'ultimo valore della lista e restituisce il valore eliminato\n",
    "la.pop()\n",
    "\n",
    "#metodo remove elimina direttamente il valore \n",
    "la.remove(\"cce\")\n",
    "#print(la)\n",
    "\n",
    "#possiamo passare anche il valore passando la posizione con l'indice\n",
    "la.remove(la[2])\n",
    "#print(la)"
   ]
  },
  {
   "cell_type": "code",
   "execution_count": 65,
   "id": "949210a6-47dc-4a69-b93e-3d8fae56fc79",
   "metadata": {},
   "outputs": [
    {
     "data": {
      "text/plain": [
       "True"
      ]
     },
     "execution_count": 65,
     "metadata": {},
     "output_type": "execute_result"
    }
   ],
   "source": [
    "#stringhe\n",
    "nome = \"Andrea\"\n",
    "messaggio = \"Ciao come stai\" + nome + \"?\"  #concatenazione di stringhe\n",
    "#applichiamo dei metodi sulla variabile nome\n",
    "#messaggio.startswith(\"Ciao come sta\") #permette di verificare se la stringa inizia con quello che vogliamo\n",
    "#messaggio.endswith(\"a?\")              #permette di verificare se la stringa finisce con quello che vogliamo\n"
   ]
  },
  {
   "cell_type": "code",
   "execution_count": 85,
   "id": "20ed3aca-684c-4972-8eae-30470f454e14",
   "metadata": {},
   "outputs": [
    {
     "data": {
      "text/plain": [
       "True"
      ]
     },
     "execution_count": 85,
     "metadata": {},
     "output_type": "execute_result"
    }
   ],
   "source": [
    "#stringhe\n",
    "nome = \"Giovanni\"\n",
    "messaggio = nome + \" è un programmatore\"  #concatenazione di stringhe\n",
    "\n",
    "#isalnum() sono solamente caratteri del tipo a-z A-Z e 0-9\n",
    "#messaggio.isalnum()\n",
    "#isalpha solamente caratteri alfabetici\n",
    "s = \"asda\"\n",
    "s.isalpha()\n",
    "\n",
    "#isdecimal solamente caratteri numerici\n",
    "num = \"12343\"\n",
    "num.isdecimal()\n",
    "\n",
    "#isspace() solamente spazi bianchi o meglio tutti i caratteri sono spazi bianchi\n",
    "sspace = \"        \"\n",
    "sspace.isspace()"
   ]
  },
  {
   "cell_type": "code",
   "execution_count": 87,
   "id": "10dc6291-aaa4-4a12-8fcd-a805e770bac1",
   "metadata": {},
   "outputs": [
    {
     "data": {
      "text/plain": [
       "'sogno'"
      ]
     },
     "execution_count": 87,
     "metadata": {},
     "output_type": "execute_result"
    }
   ],
   "source": [
    "#metodi stringhe upper() e lower()\n",
    "\"sonno\".upper()\n",
    "\"soGNO\".lower()\n"
   ]
  },
  {
   "cell_type": "code",
   "execution_count": 95,
   "id": "0dc140a1-a090-40a0-99a0-f5d52e983f76",
   "metadata": {},
   "outputs": [
    {
     "data": {
      "text/plain": [
       "['paguro', 'canguro', 'cammello', 'cane', 'gatto']"
      ]
     },
     "execution_count": 95,
     "metadata": {},
     "output_type": "execute_result"
    }
   ],
   "source": [
    "#metodi strighe split() e join()\n",
    "to_do = [\"fare la spesa\",\"pulire la cucina\",\"andare in palestra\"]\n",
    "#il metodo permette di unire piu stringhe tra di loro per formare una nuova stringa\n",
    "\"; \".join(to_do)\n",
    "\n",
    "dna = [\"ATC\",\"CAT\",\"ATC\"]\n",
    "\"\".join(dna)\n",
    "\n",
    "#il metodo split ci permette di dividere una stringa in una lista di stringhe\n",
    "lista_animali = \"paguro,canguro,cammello,cane,gatto\"\n",
    "lista_animali.split(\",\") #ricordarsi il separatore"
   ]
  },
  {
   "cell_type": "code",
   "execution_count": 104,
   "id": "31418138-3c0e-4999-a49d-3d3fe2af8e56",
   "metadata": {},
   "outputs": [
    {
     "data": {
      "text/plain": [
       "'ciao come '"
      ]
     },
     "execution_count": 104,
     "metadata": {},
     "output_type": "execute_result"
    }
   ],
   "source": [
    "#metodo stringa len() per sapere la lunghezza\n",
    "s = \"ciao come va?\"\n",
    "len(s)\n",
    "#operatori in e not in\n",
    "\"ciao\" in s\n",
    "\"ciaop\" not in s\n",
    "\n",
    "#come per le liste potete utilizzare gli slicing anche per le stringhe\n",
    "s[:-3]"
   ]
  },
  {
   "cell_type": "code",
   "execution_count": 130,
   "id": "49ff0349-785f-4c78-a884-5421dd77df42",
   "metadata": {},
   "outputs": [],
   "source": [
    "#ESERCIZI\n",
    "#Immaginiamo di non poter usare l operatore in.\n",
    "#Dobbiamo ricostruire noi il metodo IN con cicli for, if, e altro.\n",
    "\n",
    "#analizziamo il problema\n",
    "#il mio bisogno è poter prendere una stringa o un numero e vedere se è contenuto in una lista\n",
    "#s = \"aaa\" o n = 42\n",
    "#lista2 = [\"ab\",\"123\",\"tu6\", \"tesoro\", 43]\n",
    "#partiamo con s\n",
    "lista2 = [\"ab\",\"123\",\"tu6\",\"a\", \"tesoro\", 3]\n",
    "s = \"a\"\n",
    "\n",
    "#clone di in al momento funziona solo sulle stringhe\n",
    "def found_in_list(lista,s):\n",
    "    for i in lista2:\n",
    "        if i == s:\n",
    "            print(f\"trovato {i}\")\n",
    "            break\n",
    "    else:\n",
    "        print(\"non trovato\")"
   ]
  },
  {
   "cell_type": "code",
   "execution_count": 148,
   "id": "fbed2a94-8517-4ddc-9692-336b9fa34231",
   "metadata": {},
   "outputs": [
    {
     "name": "stdout",
     "output_type": "stream",
     "text": [
      "non trovato\n"
     ]
    }
   ],
   "source": [
    "found_in_list(lista2,3)"
   ]
  },
  {
   "cell_type": "code",
   "execution_count": 135,
   "id": "80eec080-d154-4b75-a675-ed8431624ad5",
   "metadata": {},
   "outputs": [
    {
     "data": {
      "text/plain": [
       "'a.b.c.d'"
      ]
     },
     "execution_count": 135,
     "metadata": {},
     "output_type": "execute_result"
    }
   ],
   "source": [
    "#riscriviamo il join e ci servono una liste di stringhe da unire e un delimitatore\n",
    "def join_up(lista_di_stringhe, delimitatore):\n",
    "    s = \"\"\n",
    "    contatore = 0\n",
    "    for frase in lista_di_stringhe:\n",
    "        if contatore < len(lista_di_stringhe)-1:\n",
    "            s += frase + delimitatore\n",
    "            contatore += 1\n",
    "        else:\n",
    "            s += frase\n",
    "    return s\n",
    "join_up([\"a\",\"b\",\"c\",\"d\"],\".\")\n",
    "    "
   ]
  },
  {
   "cell_type": "code",
   "execution_count": 149,
   "id": "a283667b-2962-424d-8f41-6eb376103bf6",
   "metadata": {},
   "outputs": [],
   "source": [
    "#riscriviamo isspace() come pensate di farlo???\n",
    "\n",
    "def isspace_(stringa):\n",
    "    if len(stringa) == 0:\n",
    "        return \"stringa vuota\"\n",
    "    for i in stringa:\n",
    "        if i != \" \":\n",
    "            return False\n",
    "isspace_(\" \")"
   ]
  },
  {
   "cell_type": "code",
   "execution_count": 165,
   "id": "0dc64ff0-4bb9-42ac-b04a-b50582a13c21",
   "metadata": {},
   "outputs": [
    {
     "name": "stdout",
     "output_type": "stream",
     "text": [
      "ok è una lista\n"
     ]
    },
    {
     "data": {
      "text/plain": [
       "[' ']"
      ]
     },
     "execution_count": 165,
     "metadata": {},
     "output_type": "execute_result"
    }
   ],
   "source": [
    "def find_in_string(stringa, valore):\n",
    "    if stringa == \"\":\n",
    "        return \"Stringa vuota\"\n",
    "    else:\n",
    "        for i in stringa:\n",
    "            if i == valore:\n",
    "                return i\n",
    "        else:\n",
    "            return \"Valore non trovato\"\n",
    "#is_space modificato per accettare sia lista di stringhe che singole stringhe in input come parametro\n",
    "def is_space_modificato(stringa_o_lista):\n",
    "    if type(stringa_o_lista) == list:\n",
    "        l = []\n",
    "        print(\"ok è una lista\")\n",
    "        for s in stringa_o_lista:\n",
    "            l.append(find_in_string(stringa_o_lista,\" \"))\n",
    "            return l\n",
    "    elif type(stringa_o_lista) == str:\n",
    "        print(\"ok è una stringa\")\n",
    "    else:\n",
    "        print(\"Struttura non supportata. Deve essere stringa o lista di stringhe.\")\n",
    "\n",
    "is_space_modificato([\"1\",\"22\",\" \"])"
   ]
  },
  {
   "cell_type": "code",
   "execution_count": null,
   "id": "ebdeae6d-993d-4b53-b253-8ee965a723d2",
   "metadata": {},
   "outputs": [],
   "source": []
  },
  {
   "cell_type": "code",
   "execution_count": null,
   "id": "64cc2c0a-1a61-4d00-915d-1bde7e3088ab",
   "metadata": {},
   "outputs": [],
   "source": []
  }
 ],
 "metadata": {
  "kernelspec": {
   "display_name": "Python 3 (ipykernel)",
   "language": "python",
   "name": "python3"
  },
  "language_info": {
   "codemirror_mode": {
    "name": "ipython",
    "version": 3
   },
   "file_extension": ".py",
   "mimetype": "text/x-python",
   "name": "python",
   "nbconvert_exporter": "python",
   "pygments_lexer": "ipython3",
   "version": "3.12.7"
  }
 },
 "nbformat": 4,
 "nbformat_minor": 5
}
